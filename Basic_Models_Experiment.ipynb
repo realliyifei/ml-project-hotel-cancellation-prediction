{
  "cells": [
    {
      "cell_type": "markdown",
      "metadata": {
        "id": "RiNsCwgFdnAB"
      },
      "source": [
        "# Basic Models Experiment\n",
        "\n",
        "Use the new processed dataset called `hotel_bookings_processed.csv`"
      ]
    },
    {
      "cell_type": "code",
      "execution_count": 2,
      "metadata": {
        "id": "TyDeLDXvco0z"
      },
      "outputs": [],
      "source": [
        "import time\n",
        "\n",
        "import numpy as np\n",
        "import pandas as pd\n",
        "import datetime as dt\n",
        "import plotly.express as px\n",
        "import seaborn as sns\n",
        "import matplotlib.pyplot as plt\n",
        "# from sklearn.metrics import plot_roc_curve\n",
        "# import seaborn as sns\n",
        "\n",
        "from sklearn.metrics import accuracy_score\n",
        "from sklearn.metrics import roc_auc_score, roc_curve, confusion_matrix, auc\n",
        "from sklearn.model_selection import train_test_split, cross_val_score, GridSearchCV\n",
        "from sklearn.preprocessing import StandardScaler\n",
        "\n",
        "# Basic models\n",
        "# from sklearn.linear_model import LinearRegression\n",
        "from sklearn.linear_model import LogisticRegression\n",
        "from sklearn.tree import DecisionTreeClassifier\n",
        "from sklearn.svm import SVC, LinearSVC\n",
        "# from sklearn.naive_bayes import GaussianNB\n",
        "from sklearn.tree import DecisionTreeClassifier\n",
        "from sklearn.ensemble import RandomForestClassifier\n",
        "from sklearn.ensemble import ExtraTreesClassifier\n",
        "from sklearn.ensemble import AdaBoostClassifier\n",
        "from sklearn.neural_network import MLPClassifier\n",
        "from xgboost import XGBClassifier"
      ]
    },
    {
      "cell_type": "code",
      "execution_count": 3,
      "metadata": {
        "colab": {
          "base_uri": "https://localhost:8080/"
        },
        "id": "3xl9SOlxeoQR",
        "outputId": "3df5ea77-eaee-42a7-ecbb-69f582daecb5"
      },
      "outputs": [
        {
          "name": "stdout",
          "output_type": "stream",
          "text": [
            "Mounted at /content/drive\n"
          ]
        }
      ],
      "source": [
        "from google.colab import drive\n",
        "drive.mount('/content/drive', force_remount=True)"
      ]
    },
    {
      "cell_type": "code",
      "execution_count": 4,
      "metadata": {
        "colab": {
          "base_uri": "https://localhost:8080/",
          "height": 456
        },
        "id": "nne0Yl3Bg__L",
        "outputId": "84fdbd41-4f94-462a-ee6a-fbaa2b4c1e36"
      },
      "outputs": [
        {
          "data": {
            "text/html": [
              "<div>\n",
              "<style scoped>\n",
              "    .dataframe tbody tr th:only-of-type {\n",
              "        vertical-align: middle;\n",
              "    }\n",
              "\n",
              "    .dataframe tbody tr th {\n",
              "        vertical-align: top;\n",
              "    }\n",
              "\n",
              "    .dataframe thead th {\n",
              "        text-align: right;\n",
              "    }\n",
              "</style>\n",
              "<table border=\"1\" class=\"dataframe\">\n",
              "  <thead>\n",
              "    <tr style=\"text-align: right;\">\n",
              "      <th></th>\n",
              "      <th>is_canceled</th>\n",
              "      <th>lead_time</th>\n",
              "      <th>arrival_date_year</th>\n",
              "      <th>arrival_date_month</th>\n",
              "      <th>arrival_date_week_number</th>\n",
              "      <th>arrival_date_day_of_month</th>\n",
              "      <th>stays_in_weekend_nights</th>\n",
              "      <th>stays_in_week_nights</th>\n",
              "      <th>adults</th>\n",
              "      <th>children</th>\n",
              "      <th>babies</th>\n",
              "      <th>is_repeated_guest</th>\n",
              "      <th>previous_cancellations</th>\n",
              "      <th>previous_bookings_not_canceled</th>\n",
              "      <th>booking_changes</th>\n",
              "      <th>agent</th>\n",
              "      <th>company</th>\n",
              "      <th>days_in_waiting_list</th>\n",
              "      <th>adr</th>\n",
              "      <th>required_car_parking_spaces</th>\n",
              "      <th>total_of_special_requests</th>\n",
              "      <th>meal_BB</th>\n",
              "      <th>meal_FB</th>\n",
              "      <th>meal_HB</th>\n",
              "      <th>meal_SC</th>\n",
              "      <th>meal_Undefined</th>\n",
              "      <th>country_AGO</th>\n",
              "      <th>country_ALB</th>\n",
              "      <th>country_AND</th>\n",
              "      <th>country_ARE</th>\n",
              "      <th>country_ARG</th>\n",
              "      <th>country_ARM</th>\n",
              "      <th>country_AUS</th>\n",
              "      <th>country_AUT</th>\n",
              "      <th>country_AZE</th>\n",
              "      <th>country_BDI</th>\n",
              "      <th>country_BEL</th>\n",
              "      <th>country_BGR</th>\n",
              "      <th>country_BHR</th>\n",
              "      <th>country_BHS</th>\n",
              "      <th>...</th>\n",
              "      <th>market_segment_Groups</th>\n",
              "      <th>market_segment_Offline TA/TO</th>\n",
              "      <th>market_segment_Online TA</th>\n",
              "      <th>distribution_channel_Corporate</th>\n",
              "      <th>distribution_channel_Direct</th>\n",
              "      <th>distribution_channel_TA/TO</th>\n",
              "      <th>distribution_channel_Undefined</th>\n",
              "      <th>reserved_room_type_A</th>\n",
              "      <th>reserved_room_type_B</th>\n",
              "      <th>reserved_room_type_C</th>\n",
              "      <th>reserved_room_type_D</th>\n",
              "      <th>reserved_room_type_E</th>\n",
              "      <th>reserved_room_type_F</th>\n",
              "      <th>reserved_room_type_G</th>\n",
              "      <th>reserved_room_type_H</th>\n",
              "      <th>reserved_room_type_L</th>\n",
              "      <th>reserved_room_type_P</th>\n",
              "      <th>assigned_room_type_A</th>\n",
              "      <th>assigned_room_type_B</th>\n",
              "      <th>assigned_room_type_C</th>\n",
              "      <th>assigned_room_type_D</th>\n",
              "      <th>assigned_room_type_E</th>\n",
              "      <th>assigned_room_type_F</th>\n",
              "      <th>assigned_room_type_G</th>\n",
              "      <th>assigned_room_type_H</th>\n",
              "      <th>assigned_room_type_I</th>\n",
              "      <th>assigned_room_type_L</th>\n",
              "      <th>assigned_room_type_P</th>\n",
              "      <th>deposit_type_No Deposit</th>\n",
              "      <th>deposit_type_Non Refund</th>\n",
              "      <th>deposit_type_Refundable</th>\n",
              "      <th>customer_type_Contract</th>\n",
              "      <th>customer_type_Group</th>\n",
              "      <th>customer_type_Transient</th>\n",
              "      <th>customer_type_Transient-Party</th>\n",
              "      <th>day_of_week</th>\n",
              "      <th>day_of_year</th>\n",
              "      <th>is_family</th>\n",
              "      <th>customer_number</th>\n",
              "      <th>night_number</th>\n",
              "    </tr>\n",
              "  </thead>\n",
              "  <tbody>\n",
              "    <tr>\n",
              "      <th>0</th>\n",
              "      <td>0</td>\n",
              "      <td>342</td>\n",
              "      <td>2015</td>\n",
              "      <td>7</td>\n",
              "      <td>27</td>\n",
              "      <td>1</td>\n",
              "      <td>0</td>\n",
              "      <td>0</td>\n",
              "      <td>2</td>\n",
              "      <td>0.0</td>\n",
              "      <td>0</td>\n",
              "      <td>0</td>\n",
              "      <td>0</td>\n",
              "      <td>0</td>\n",
              "      <td>3</td>\n",
              "      <td>0.0</td>\n",
              "      <td>0.0</td>\n",
              "      <td>0</td>\n",
              "      <td>0.00</td>\n",
              "      <td>0</td>\n",
              "      <td>0</td>\n",
              "      <td>1</td>\n",
              "      <td>0</td>\n",
              "      <td>0</td>\n",
              "      <td>0</td>\n",
              "      <td>0</td>\n",
              "      <td>0</td>\n",
              "      <td>0</td>\n",
              "      <td>0</td>\n",
              "      <td>0</td>\n",
              "      <td>0</td>\n",
              "      <td>0</td>\n",
              "      <td>0</td>\n",
              "      <td>0</td>\n",
              "      <td>0</td>\n",
              "      <td>0</td>\n",
              "      <td>0</td>\n",
              "      <td>0</td>\n",
              "      <td>0</td>\n",
              "      <td>0</td>\n",
              "      <td>...</td>\n",
              "      <td>0</td>\n",
              "      <td>0</td>\n",
              "      <td>0</td>\n",
              "      <td>0</td>\n",
              "      <td>1</td>\n",
              "      <td>0</td>\n",
              "      <td>0</td>\n",
              "      <td>0</td>\n",
              "      <td>0</td>\n",
              "      <td>1</td>\n",
              "      <td>0</td>\n",
              "      <td>0</td>\n",
              "      <td>0</td>\n",
              "      <td>0</td>\n",
              "      <td>0</td>\n",
              "      <td>0</td>\n",
              "      <td>0</td>\n",
              "      <td>0</td>\n",
              "      <td>0</td>\n",
              "      <td>1</td>\n",
              "      <td>0</td>\n",
              "      <td>0</td>\n",
              "      <td>0</td>\n",
              "      <td>0</td>\n",
              "      <td>0</td>\n",
              "      <td>0</td>\n",
              "      <td>0</td>\n",
              "      <td>0</td>\n",
              "      <td>1</td>\n",
              "      <td>0</td>\n",
              "      <td>0</td>\n",
              "      <td>0</td>\n",
              "      <td>0</td>\n",
              "      <td>1</td>\n",
              "      <td>0</td>\n",
              "      <td>2</td>\n",
              "      <td>182</td>\n",
              "      <td>0</td>\n",
              "      <td>2.0</td>\n",
              "      <td>0</td>\n",
              "    </tr>\n",
              "    <tr>\n",
              "      <th>1</th>\n",
              "      <td>0</td>\n",
              "      <td>737</td>\n",
              "      <td>2015</td>\n",
              "      <td>7</td>\n",
              "      <td>27</td>\n",
              "      <td>1</td>\n",
              "      <td>0</td>\n",
              "      <td>0</td>\n",
              "      <td>2</td>\n",
              "      <td>0.0</td>\n",
              "      <td>0</td>\n",
              "      <td>0</td>\n",
              "      <td>0</td>\n",
              "      <td>0</td>\n",
              "      <td>4</td>\n",
              "      <td>0.0</td>\n",
              "      <td>0.0</td>\n",
              "      <td>0</td>\n",
              "      <td>0.00</td>\n",
              "      <td>0</td>\n",
              "      <td>0</td>\n",
              "      <td>1</td>\n",
              "      <td>0</td>\n",
              "      <td>0</td>\n",
              "      <td>0</td>\n",
              "      <td>0</td>\n",
              "      <td>0</td>\n",
              "      <td>0</td>\n",
              "      <td>0</td>\n",
              "      <td>0</td>\n",
              "      <td>0</td>\n",
              "      <td>0</td>\n",
              "      <td>0</td>\n",
              "      <td>0</td>\n",
              "      <td>0</td>\n",
              "      <td>0</td>\n",
              "      <td>0</td>\n",
              "      <td>0</td>\n",
              "      <td>0</td>\n",
              "      <td>0</td>\n",
              "      <td>...</td>\n",
              "      <td>0</td>\n",
              "      <td>0</td>\n",
              "      <td>0</td>\n",
              "      <td>0</td>\n",
              "      <td>1</td>\n",
              "      <td>0</td>\n",
              "      <td>0</td>\n",
              "      <td>0</td>\n",
              "      <td>0</td>\n",
              "      <td>1</td>\n",
              "      <td>0</td>\n",
              "      <td>0</td>\n",
              "      <td>0</td>\n",
              "      <td>0</td>\n",
              "      <td>0</td>\n",
              "      <td>0</td>\n",
              "      <td>0</td>\n",
              "      <td>0</td>\n",
              "      <td>0</td>\n",
              "      <td>1</td>\n",
              "      <td>0</td>\n",
              "      <td>0</td>\n",
              "      <td>0</td>\n",
              "      <td>0</td>\n",
              "      <td>0</td>\n",
              "      <td>0</td>\n",
              "      <td>0</td>\n",
              "      <td>0</td>\n",
              "      <td>1</td>\n",
              "      <td>0</td>\n",
              "      <td>0</td>\n",
              "      <td>0</td>\n",
              "      <td>0</td>\n",
              "      <td>1</td>\n",
              "      <td>0</td>\n",
              "      <td>2</td>\n",
              "      <td>182</td>\n",
              "      <td>0</td>\n",
              "      <td>2.0</td>\n",
              "      <td>0</td>\n",
              "    </tr>\n",
              "    <tr>\n",
              "      <th>2</th>\n",
              "      <td>0</td>\n",
              "      <td>7</td>\n",
              "      <td>2015</td>\n",
              "      <td>7</td>\n",
              "      <td>27</td>\n",
              "      <td>1</td>\n",
              "      <td>0</td>\n",
              "      <td>1</td>\n",
              "      <td>1</td>\n",
              "      <td>0.0</td>\n",
              "      <td>0</td>\n",
              "      <td>0</td>\n",
              "      <td>0</td>\n",
              "      <td>0</td>\n",
              "      <td>0</td>\n",
              "      <td>0.0</td>\n",
              "      <td>0.0</td>\n",
              "      <td>0</td>\n",
              "      <td>75.00</td>\n",
              "      <td>0</td>\n",
              "      <td>0</td>\n",
              "      <td>1</td>\n",
              "      <td>0</td>\n",
              "      <td>0</td>\n",
              "      <td>0</td>\n",
              "      <td>0</td>\n",
              "      <td>0</td>\n",
              "      <td>0</td>\n",
              "      <td>0</td>\n",
              "      <td>0</td>\n",
              "      <td>0</td>\n",
              "      <td>0</td>\n",
              "      <td>0</td>\n",
              "      <td>0</td>\n",
              "      <td>0</td>\n",
              "      <td>0</td>\n",
              "      <td>0</td>\n",
              "      <td>0</td>\n",
              "      <td>0</td>\n",
              "      <td>0</td>\n",
              "      <td>...</td>\n",
              "      <td>0</td>\n",
              "      <td>0</td>\n",
              "      <td>0</td>\n",
              "      <td>0</td>\n",
              "      <td>1</td>\n",
              "      <td>0</td>\n",
              "      <td>0</td>\n",
              "      <td>1</td>\n",
              "      <td>0</td>\n",
              "      <td>0</td>\n",
              "      <td>0</td>\n",
              "      <td>0</td>\n",
              "      <td>0</td>\n",
              "      <td>0</td>\n",
              "      <td>0</td>\n",
              "      <td>0</td>\n",
              "      <td>0</td>\n",
              "      <td>0</td>\n",
              "      <td>0</td>\n",
              "      <td>1</td>\n",
              "      <td>0</td>\n",
              "      <td>0</td>\n",
              "      <td>0</td>\n",
              "      <td>0</td>\n",
              "      <td>0</td>\n",
              "      <td>0</td>\n",
              "      <td>0</td>\n",
              "      <td>0</td>\n",
              "      <td>1</td>\n",
              "      <td>0</td>\n",
              "      <td>0</td>\n",
              "      <td>0</td>\n",
              "      <td>0</td>\n",
              "      <td>1</td>\n",
              "      <td>0</td>\n",
              "      <td>3</td>\n",
              "      <td>183</td>\n",
              "      <td>0</td>\n",
              "      <td>1.0</td>\n",
              "      <td>1</td>\n",
              "    </tr>\n",
              "    <tr>\n",
              "      <th>3</th>\n",
              "      <td>0</td>\n",
              "      <td>13</td>\n",
              "      <td>2015</td>\n",
              "      <td>7</td>\n",
              "      <td>27</td>\n",
              "      <td>1</td>\n",
              "      <td>0</td>\n",
              "      <td>1</td>\n",
              "      <td>1</td>\n",
              "      <td>0.0</td>\n",
              "      <td>0</td>\n",
              "      <td>0</td>\n",
              "      <td>0</td>\n",
              "      <td>0</td>\n",
              "      <td>0</td>\n",
              "      <td>304.0</td>\n",
              "      <td>0.0</td>\n",
              "      <td>0</td>\n",
              "      <td>75.00</td>\n",
              "      <td>0</td>\n",
              "      <td>0</td>\n",
              "      <td>1</td>\n",
              "      <td>0</td>\n",
              "      <td>0</td>\n",
              "      <td>0</td>\n",
              "      <td>0</td>\n",
              "      <td>0</td>\n",
              "      <td>0</td>\n",
              "      <td>0</td>\n",
              "      <td>0</td>\n",
              "      <td>0</td>\n",
              "      <td>0</td>\n",
              "      <td>0</td>\n",
              "      <td>0</td>\n",
              "      <td>0</td>\n",
              "      <td>0</td>\n",
              "      <td>0</td>\n",
              "      <td>0</td>\n",
              "      <td>0</td>\n",
              "      <td>0</td>\n",
              "      <td>...</td>\n",
              "      <td>0</td>\n",
              "      <td>0</td>\n",
              "      <td>0</td>\n",
              "      <td>1</td>\n",
              "      <td>0</td>\n",
              "      <td>0</td>\n",
              "      <td>0</td>\n",
              "      <td>1</td>\n",
              "      <td>0</td>\n",
              "      <td>0</td>\n",
              "      <td>0</td>\n",
              "      <td>0</td>\n",
              "      <td>0</td>\n",
              "      <td>0</td>\n",
              "      <td>0</td>\n",
              "      <td>0</td>\n",
              "      <td>0</td>\n",
              "      <td>1</td>\n",
              "      <td>0</td>\n",
              "      <td>0</td>\n",
              "      <td>0</td>\n",
              "      <td>0</td>\n",
              "      <td>0</td>\n",
              "      <td>0</td>\n",
              "      <td>0</td>\n",
              "      <td>0</td>\n",
              "      <td>0</td>\n",
              "      <td>0</td>\n",
              "      <td>1</td>\n",
              "      <td>0</td>\n",
              "      <td>0</td>\n",
              "      <td>0</td>\n",
              "      <td>0</td>\n",
              "      <td>1</td>\n",
              "      <td>0</td>\n",
              "      <td>3</td>\n",
              "      <td>183</td>\n",
              "      <td>0</td>\n",
              "      <td>1.0</td>\n",
              "      <td>1</td>\n",
              "    </tr>\n",
              "    <tr>\n",
              "      <th>4</th>\n",
              "      <td>0</td>\n",
              "      <td>14</td>\n",
              "      <td>2015</td>\n",
              "      <td>7</td>\n",
              "      <td>27</td>\n",
              "      <td>1</td>\n",
              "      <td>0</td>\n",
              "      <td>2</td>\n",
              "      <td>2</td>\n",
              "      <td>0.0</td>\n",
              "      <td>0</td>\n",
              "      <td>0</td>\n",
              "      <td>0</td>\n",
              "      <td>0</td>\n",
              "      <td>0</td>\n",
              "      <td>240.0</td>\n",
              "      <td>0.0</td>\n",
              "      <td>0</td>\n",
              "      <td>98.00</td>\n",
              "      <td>0</td>\n",
              "      <td>1</td>\n",
              "      <td>1</td>\n",
              "      <td>0</td>\n",
              "      <td>0</td>\n",
              "      <td>0</td>\n",
              "      <td>0</td>\n",
              "      <td>0</td>\n",
              "      <td>0</td>\n",
              "      <td>0</td>\n",
              "      <td>0</td>\n",
              "      <td>0</td>\n",
              "      <td>0</td>\n",
              "      <td>0</td>\n",
              "      <td>0</td>\n",
              "      <td>0</td>\n",
              "      <td>0</td>\n",
              "      <td>0</td>\n",
              "      <td>0</td>\n",
              "      <td>0</td>\n",
              "      <td>0</td>\n",
              "      <td>...</td>\n",
              "      <td>0</td>\n",
              "      <td>0</td>\n",
              "      <td>1</td>\n",
              "      <td>0</td>\n",
              "      <td>0</td>\n",
              "      <td>1</td>\n",
              "      <td>0</td>\n",
              "      <td>1</td>\n",
              "      <td>0</td>\n",
              "      <td>0</td>\n",
              "      <td>0</td>\n",
              "      <td>0</td>\n",
              "      <td>0</td>\n",
              "      <td>0</td>\n",
              "      <td>0</td>\n",
              "      <td>0</td>\n",
              "      <td>0</td>\n",
              "      <td>1</td>\n",
              "      <td>0</td>\n",
              "      <td>0</td>\n",
              "      <td>0</td>\n",
              "      <td>0</td>\n",
              "      <td>0</td>\n",
              "      <td>0</td>\n",
              "      <td>0</td>\n",
              "      <td>0</td>\n",
              "      <td>0</td>\n",
              "      <td>0</td>\n",
              "      <td>1</td>\n",
              "      <td>0</td>\n",
              "      <td>0</td>\n",
              "      <td>0</td>\n",
              "      <td>0</td>\n",
              "      <td>1</td>\n",
              "      <td>0</td>\n",
              "      <td>4</td>\n",
              "      <td>184</td>\n",
              "      <td>0</td>\n",
              "      <td>2.0</td>\n",
              "      <td>2</td>\n",
              "    </tr>\n",
              "    <tr>\n",
              "      <th>...</th>\n",
              "      <td>...</td>\n",
              "      <td>...</td>\n",
              "      <td>...</td>\n",
              "      <td>...</td>\n",
              "      <td>...</td>\n",
              "      <td>...</td>\n",
              "      <td>...</td>\n",
              "      <td>...</td>\n",
              "      <td>...</td>\n",
              "      <td>...</td>\n",
              "      <td>...</td>\n",
              "      <td>...</td>\n",
              "      <td>...</td>\n",
              "      <td>...</td>\n",
              "      <td>...</td>\n",
              "      <td>...</td>\n",
              "      <td>...</td>\n",
              "      <td>...</td>\n",
              "      <td>...</td>\n",
              "      <td>...</td>\n",
              "      <td>...</td>\n",
              "      <td>...</td>\n",
              "      <td>...</td>\n",
              "      <td>...</td>\n",
              "      <td>...</td>\n",
              "      <td>...</td>\n",
              "      <td>...</td>\n",
              "      <td>...</td>\n",
              "      <td>...</td>\n",
              "      <td>...</td>\n",
              "      <td>...</td>\n",
              "      <td>...</td>\n",
              "      <td>...</td>\n",
              "      <td>...</td>\n",
              "      <td>...</td>\n",
              "      <td>...</td>\n",
              "      <td>...</td>\n",
              "      <td>...</td>\n",
              "      <td>...</td>\n",
              "      <td>...</td>\n",
              "      <td>...</td>\n",
              "      <td>...</td>\n",
              "      <td>...</td>\n",
              "      <td>...</td>\n",
              "      <td>...</td>\n",
              "      <td>...</td>\n",
              "      <td>...</td>\n",
              "      <td>...</td>\n",
              "      <td>...</td>\n",
              "      <td>...</td>\n",
              "      <td>...</td>\n",
              "      <td>...</td>\n",
              "      <td>...</td>\n",
              "      <td>...</td>\n",
              "      <td>...</td>\n",
              "      <td>...</td>\n",
              "      <td>...</td>\n",
              "      <td>...</td>\n",
              "      <td>...</td>\n",
              "      <td>...</td>\n",
              "      <td>...</td>\n",
              "      <td>...</td>\n",
              "      <td>...</td>\n",
              "      <td>...</td>\n",
              "      <td>...</td>\n",
              "      <td>...</td>\n",
              "      <td>...</td>\n",
              "      <td>...</td>\n",
              "      <td>...</td>\n",
              "      <td>...</td>\n",
              "      <td>...</td>\n",
              "      <td>...</td>\n",
              "      <td>...</td>\n",
              "      <td>...</td>\n",
              "      <td>...</td>\n",
              "      <td>...</td>\n",
              "      <td>...</td>\n",
              "      <td>...</td>\n",
              "      <td>...</td>\n",
              "      <td>...</td>\n",
              "      <td>...</td>\n",
              "    </tr>\n",
              "    <tr>\n",
              "      <th>40055</th>\n",
              "      <td>0</td>\n",
              "      <td>212</td>\n",
              "      <td>2017</td>\n",
              "      <td>8</td>\n",
              "      <td>35</td>\n",
              "      <td>31</td>\n",
              "      <td>2</td>\n",
              "      <td>8</td>\n",
              "      <td>2</td>\n",
              "      <td>1.0</td>\n",
              "      <td>0</td>\n",
              "      <td>0</td>\n",
              "      <td>0</td>\n",
              "      <td>0</td>\n",
              "      <td>1</td>\n",
              "      <td>143.0</td>\n",
              "      <td>0.0</td>\n",
              "      <td>0</td>\n",
              "      <td>89.75</td>\n",
              "      <td>0</td>\n",
              "      <td>0</td>\n",
              "      <td>1</td>\n",
              "      <td>0</td>\n",
              "      <td>0</td>\n",
              "      <td>0</td>\n",
              "      <td>0</td>\n",
              "      <td>0</td>\n",
              "      <td>0</td>\n",
              "      <td>0</td>\n",
              "      <td>0</td>\n",
              "      <td>0</td>\n",
              "      <td>0</td>\n",
              "      <td>0</td>\n",
              "      <td>0</td>\n",
              "      <td>0</td>\n",
              "      <td>0</td>\n",
              "      <td>0</td>\n",
              "      <td>0</td>\n",
              "      <td>0</td>\n",
              "      <td>0</td>\n",
              "      <td>...</td>\n",
              "      <td>0</td>\n",
              "      <td>1</td>\n",
              "      <td>0</td>\n",
              "      <td>0</td>\n",
              "      <td>0</td>\n",
              "      <td>1</td>\n",
              "      <td>0</td>\n",
              "      <td>1</td>\n",
              "      <td>0</td>\n",
              "      <td>0</td>\n",
              "      <td>0</td>\n",
              "      <td>0</td>\n",
              "      <td>0</td>\n",
              "      <td>0</td>\n",
              "      <td>0</td>\n",
              "      <td>0</td>\n",
              "      <td>0</td>\n",
              "      <td>1</td>\n",
              "      <td>0</td>\n",
              "      <td>0</td>\n",
              "      <td>0</td>\n",
              "      <td>0</td>\n",
              "      <td>0</td>\n",
              "      <td>0</td>\n",
              "      <td>0</td>\n",
              "      <td>0</td>\n",
              "      <td>0</td>\n",
              "      <td>0</td>\n",
              "      <td>1</td>\n",
              "      <td>0</td>\n",
              "      <td>0</td>\n",
              "      <td>0</td>\n",
              "      <td>0</td>\n",
              "      <td>1</td>\n",
              "      <td>0</td>\n",
              "      <td>6</td>\n",
              "      <td>253</td>\n",
              "      <td>1</td>\n",
              "      <td>3.0</td>\n",
              "      <td>10</td>\n",
              "    </tr>\n",
              "    <tr>\n",
              "      <th>40056</th>\n",
              "      <td>0</td>\n",
              "      <td>169</td>\n",
              "      <td>2017</td>\n",
              "      <td>8</td>\n",
              "      <td>35</td>\n",
              "      <td>30</td>\n",
              "      <td>2</td>\n",
              "      <td>9</td>\n",
              "      <td>2</td>\n",
              "      <td>0.0</td>\n",
              "      <td>0</td>\n",
              "      <td>0</td>\n",
              "      <td>0</td>\n",
              "      <td>0</td>\n",
              "      <td>0</td>\n",
              "      <td>250.0</td>\n",
              "      <td>0.0</td>\n",
              "      <td>0</td>\n",
              "      <td>202.27</td>\n",
              "      <td>0</td>\n",
              "      <td>1</td>\n",
              "      <td>1</td>\n",
              "      <td>0</td>\n",
              "      <td>0</td>\n",
              "      <td>0</td>\n",
              "      <td>0</td>\n",
              "      <td>0</td>\n",
              "      <td>0</td>\n",
              "      <td>0</td>\n",
              "      <td>0</td>\n",
              "      <td>0</td>\n",
              "      <td>0</td>\n",
              "      <td>0</td>\n",
              "      <td>0</td>\n",
              "      <td>0</td>\n",
              "      <td>0</td>\n",
              "      <td>0</td>\n",
              "      <td>0</td>\n",
              "      <td>0</td>\n",
              "      <td>0</td>\n",
              "      <td>...</td>\n",
              "      <td>0</td>\n",
              "      <td>0</td>\n",
              "      <td>0</td>\n",
              "      <td>0</td>\n",
              "      <td>1</td>\n",
              "      <td>0</td>\n",
              "      <td>0</td>\n",
              "      <td>0</td>\n",
              "      <td>0</td>\n",
              "      <td>0</td>\n",
              "      <td>0</td>\n",
              "      <td>1</td>\n",
              "      <td>0</td>\n",
              "      <td>0</td>\n",
              "      <td>0</td>\n",
              "      <td>0</td>\n",
              "      <td>0</td>\n",
              "      <td>0</td>\n",
              "      <td>0</td>\n",
              "      <td>0</td>\n",
              "      <td>0</td>\n",
              "      <td>1</td>\n",
              "      <td>0</td>\n",
              "      <td>0</td>\n",
              "      <td>0</td>\n",
              "      <td>0</td>\n",
              "      <td>0</td>\n",
              "      <td>0</td>\n",
              "      <td>1</td>\n",
              "      <td>0</td>\n",
              "      <td>0</td>\n",
              "      <td>0</td>\n",
              "      <td>0</td>\n",
              "      <td>0</td>\n",
              "      <td>1</td>\n",
              "      <td>6</td>\n",
              "      <td>253</td>\n",
              "      <td>0</td>\n",
              "      <td>2.0</td>\n",
              "      <td>11</td>\n",
              "    </tr>\n",
              "    <tr>\n",
              "      <th>40057</th>\n",
              "      <td>0</td>\n",
              "      <td>204</td>\n",
              "      <td>2017</td>\n",
              "      <td>8</td>\n",
              "      <td>35</td>\n",
              "      <td>29</td>\n",
              "      <td>4</td>\n",
              "      <td>10</td>\n",
              "      <td>2</td>\n",
              "      <td>0.0</td>\n",
              "      <td>0</td>\n",
              "      <td>0</td>\n",
              "      <td>0</td>\n",
              "      <td>0</td>\n",
              "      <td>0</td>\n",
              "      <td>250.0</td>\n",
              "      <td>0.0</td>\n",
              "      <td>0</td>\n",
              "      <td>153.57</td>\n",
              "      <td>0</td>\n",
              "      <td>3</td>\n",
              "      <td>1</td>\n",
              "      <td>0</td>\n",
              "      <td>0</td>\n",
              "      <td>0</td>\n",
              "      <td>0</td>\n",
              "      <td>0</td>\n",
              "      <td>0</td>\n",
              "      <td>0</td>\n",
              "      <td>0</td>\n",
              "      <td>0</td>\n",
              "      <td>0</td>\n",
              "      <td>0</td>\n",
              "      <td>0</td>\n",
              "      <td>0</td>\n",
              "      <td>0</td>\n",
              "      <td>0</td>\n",
              "      <td>0</td>\n",
              "      <td>0</td>\n",
              "      <td>0</td>\n",
              "      <td>...</td>\n",
              "      <td>0</td>\n",
              "      <td>0</td>\n",
              "      <td>0</td>\n",
              "      <td>0</td>\n",
              "      <td>1</td>\n",
              "      <td>0</td>\n",
              "      <td>0</td>\n",
              "      <td>0</td>\n",
              "      <td>0</td>\n",
              "      <td>0</td>\n",
              "      <td>0</td>\n",
              "      <td>1</td>\n",
              "      <td>0</td>\n",
              "      <td>0</td>\n",
              "      <td>0</td>\n",
              "      <td>0</td>\n",
              "      <td>0</td>\n",
              "      <td>0</td>\n",
              "      <td>0</td>\n",
              "      <td>0</td>\n",
              "      <td>0</td>\n",
              "      <td>1</td>\n",
              "      <td>0</td>\n",
              "      <td>0</td>\n",
              "      <td>0</td>\n",
              "      <td>0</td>\n",
              "      <td>0</td>\n",
              "      <td>0</td>\n",
              "      <td>1</td>\n",
              "      <td>0</td>\n",
              "      <td>0</td>\n",
              "      <td>0</td>\n",
              "      <td>0</td>\n",
              "      <td>1</td>\n",
              "      <td>0</td>\n",
              "      <td>1</td>\n",
              "      <td>255</td>\n",
              "      <td>0</td>\n",
              "      <td>2.0</td>\n",
              "      <td>14</td>\n",
              "    </tr>\n",
              "    <tr>\n",
              "      <th>40058</th>\n",
              "      <td>0</td>\n",
              "      <td>211</td>\n",
              "      <td>2017</td>\n",
              "      <td>8</td>\n",
              "      <td>35</td>\n",
              "      <td>31</td>\n",
              "      <td>4</td>\n",
              "      <td>10</td>\n",
              "      <td>2</td>\n",
              "      <td>0.0</td>\n",
              "      <td>0</td>\n",
              "      <td>0</td>\n",
              "      <td>0</td>\n",
              "      <td>0</td>\n",
              "      <td>0</td>\n",
              "      <td>40.0</td>\n",
              "      <td>0.0</td>\n",
              "      <td>0</td>\n",
              "      <td>112.80</td>\n",
              "      <td>0</td>\n",
              "      <td>1</td>\n",
              "      <td>0</td>\n",
              "      <td>0</td>\n",
              "      <td>1</td>\n",
              "      <td>0</td>\n",
              "      <td>0</td>\n",
              "      <td>0</td>\n",
              "      <td>0</td>\n",
              "      <td>0</td>\n",
              "      <td>0</td>\n",
              "      <td>0</td>\n",
              "      <td>0</td>\n",
              "      <td>0</td>\n",
              "      <td>0</td>\n",
              "      <td>0</td>\n",
              "      <td>0</td>\n",
              "      <td>0</td>\n",
              "      <td>0</td>\n",
              "      <td>0</td>\n",
              "      <td>0</td>\n",
              "      <td>...</td>\n",
              "      <td>0</td>\n",
              "      <td>1</td>\n",
              "      <td>0</td>\n",
              "      <td>0</td>\n",
              "      <td>0</td>\n",
              "      <td>1</td>\n",
              "      <td>0</td>\n",
              "      <td>0</td>\n",
              "      <td>0</td>\n",
              "      <td>0</td>\n",
              "      <td>1</td>\n",
              "      <td>0</td>\n",
              "      <td>0</td>\n",
              "      <td>0</td>\n",
              "      <td>0</td>\n",
              "      <td>0</td>\n",
              "      <td>0</td>\n",
              "      <td>0</td>\n",
              "      <td>0</td>\n",
              "      <td>0</td>\n",
              "      <td>1</td>\n",
              "      <td>0</td>\n",
              "      <td>0</td>\n",
              "      <td>0</td>\n",
              "      <td>0</td>\n",
              "      <td>0</td>\n",
              "      <td>0</td>\n",
              "      <td>0</td>\n",
              "      <td>1</td>\n",
              "      <td>0</td>\n",
              "      <td>0</td>\n",
              "      <td>1</td>\n",
              "      <td>0</td>\n",
              "      <td>0</td>\n",
              "      <td>0</td>\n",
              "      <td>3</td>\n",
              "      <td>257</td>\n",
              "      <td>0</td>\n",
              "      <td>2.0</td>\n",
              "      <td>14</td>\n",
              "    </tr>\n",
              "    <tr>\n",
              "      <th>40059</th>\n",
              "      <td>0</td>\n",
              "      <td>161</td>\n",
              "      <td>2017</td>\n",
              "      <td>8</td>\n",
              "      <td>35</td>\n",
              "      <td>31</td>\n",
              "      <td>4</td>\n",
              "      <td>10</td>\n",
              "      <td>2</td>\n",
              "      <td>0.0</td>\n",
              "      <td>0</td>\n",
              "      <td>0</td>\n",
              "      <td>0</td>\n",
              "      <td>0</td>\n",
              "      <td>0</td>\n",
              "      <td>69.0</td>\n",
              "      <td>0.0</td>\n",
              "      <td>0</td>\n",
              "      <td>99.06</td>\n",
              "      <td>0</td>\n",
              "      <td>0</td>\n",
              "      <td>0</td>\n",
              "      <td>0</td>\n",
              "      <td>1</td>\n",
              "      <td>0</td>\n",
              "      <td>0</td>\n",
              "      <td>0</td>\n",
              "      <td>0</td>\n",
              "      <td>0</td>\n",
              "      <td>0</td>\n",
              "      <td>0</td>\n",
              "      <td>0</td>\n",
              "      <td>0</td>\n",
              "      <td>0</td>\n",
              "      <td>0</td>\n",
              "      <td>0</td>\n",
              "      <td>0</td>\n",
              "      <td>0</td>\n",
              "      <td>0</td>\n",
              "      <td>0</td>\n",
              "      <td>...</td>\n",
              "      <td>0</td>\n",
              "      <td>1</td>\n",
              "      <td>0</td>\n",
              "      <td>0</td>\n",
              "      <td>0</td>\n",
              "      <td>1</td>\n",
              "      <td>0</td>\n",
              "      <td>1</td>\n",
              "      <td>0</td>\n",
              "      <td>0</td>\n",
              "      <td>0</td>\n",
              "      <td>0</td>\n",
              "      <td>0</td>\n",
              "      <td>0</td>\n",
              "      <td>0</td>\n",
              "      <td>0</td>\n",
              "      <td>0</td>\n",
              "      <td>1</td>\n",
              "      <td>0</td>\n",
              "      <td>0</td>\n",
              "      <td>0</td>\n",
              "      <td>0</td>\n",
              "      <td>0</td>\n",
              "      <td>0</td>\n",
              "      <td>0</td>\n",
              "      <td>0</td>\n",
              "      <td>0</td>\n",
              "      <td>0</td>\n",
              "      <td>1</td>\n",
              "      <td>0</td>\n",
              "      <td>0</td>\n",
              "      <td>0</td>\n",
              "      <td>0</td>\n",
              "      <td>1</td>\n",
              "      <td>0</td>\n",
              "      <td>3</td>\n",
              "      <td>257</td>\n",
              "      <td>0</td>\n",
              "      <td>2.0</td>\n",
              "      <td>14</td>\n",
              "    </tr>\n",
              "  </tbody>\n",
              "</table>\n",
              "<p>40060 rows × 195 columns</p>\n",
              "</div>"
            ],
            "text/plain": [
              "       is_canceled  lead_time  ...  customer_number  night_number\n",
              "0                0        342  ...              2.0             0\n",
              "1                0        737  ...              2.0             0\n",
              "2                0          7  ...              1.0             1\n",
              "3                0         13  ...              1.0             1\n",
              "4                0         14  ...              2.0             2\n",
              "...            ...        ...  ...              ...           ...\n",
              "40055            0        212  ...              3.0            10\n",
              "40056            0        169  ...              2.0            11\n",
              "40057            0        204  ...              2.0            14\n",
              "40058            0        211  ...              2.0            14\n",
              "40059            0        161  ...              2.0            14\n",
              "\n",
              "[40060 rows x 195 columns]"
            ]
          },
          "execution_count": 4,
          "metadata": {
            "tags": []
          },
          "output_type": "execute_result"
        }
      ],
      "source": [
        "path = \"/content/drive/Shareddrives/CIS 520/final project/hotel_bookings_processed.csv\"\n",
        "data = pd.read_csv(path)\n",
        "data"
      ]
    },
    {
      "cell_type": "code",
      "execution_count": null,
      "metadata": {
        "colab": {
          "base_uri": "https://localhost:8080/"
        },
        "id": "Xh-OIUMSfMg1",
        "outputId": "a1f022e4-79cf-440d-b59b-d6a2542ebbc2"
      },
      "outputs": [
        {
          "data": {
            "text/plain": [
              "deposit_type_Non Refund        0.322567\n",
              "deposit_type_No Deposit        0.305978\n",
              "country_PRT                    0.285592\n",
              "required_car_parking_spaces    0.243863\n",
              "lead_time                      0.229444\n",
              "day_of_week                    0.171971\n",
              "market_segment_Online TA       0.148792\n",
              "country_GBR                    0.148477\n",
              "assigned_room_type_A           0.148192\n",
              "market_segment_Direct          0.140526\n",
              "Name: is_canceled, dtype: float64"
            ]
          },
          "execution_count": 30,
          "metadata": {
            "tags": []
          },
          "output_type": "execute_result"
        }
      ],
      "source": [
        "data.corr()['is_canceled'].abs().sort_values(ascending=False)[1:11]"
      ]
    },
    {
      "cell_type": "code",
      "execution_count": 6,
      "metadata": {
        "id": "YYjK6CqtijEo"
      },
      "outputs": [],
      "source": [
        "## Initialize X, y and split dataset\n",
        "df = data.copy()\n",
        "y = df['is_canceled']\n",
        "X = df.drop(['is_canceled'], axis=1)\n",
        "X_train, X_test, y_train, y_test = \\\n",
        "  train_test_split(X, y, test_size=0.20, random_state=42)"
      ]
    },
    {
      "cell_type": "code",
      "execution_count": null,
      "metadata": {
        "colab": {
          "base_uri": "https://localhost:8080/",
          "height": 296
        },
        "id": "UK7LMiEzqRC_",
        "outputId": "a481c1e8-c577-478c-df0c-596c88537b95"
      },
      "outputs": [
        {
          "data": {
            "text/plain": [
              "Text(0.5, 0, 'Top 20 Feature Importance (%)')"
            ]
          },
          "execution_count": 34,
          "metadata": {
            "tags": []
          },
          "output_type": "execute_result"
        },
        {
          "data": {
            "image/png": "[encoded data removed]",
            "text/plain": [
              "<Figure size 432x288 with 1 Axes>"
            ]
          },
          "metadata": {
            "needs_background": "light",
            "tags": []
          },
          "output_type": "display_data"
        }
      ],
      "source": [
        "clf_rf = DecisionTreeClassifier(max_depth=12).fit(X_train, y_train)\n",
        "pd.DataFrame(data = clf_rf.feature_importances_ * 100, \n",
        "             columns = ['Importance'], \n",
        "             index = X_train.columns)\\\n",
        "                .sort_values('Importance', ascending=True)[-20:]\\\n",
        "                .plot(kind='barh', color='r')\n",
        "\n",
        "plt.xlabel(\"Top 20 Feature Importance (%)\")"
      ]
    },
    {
      "cell_type": "markdown",
      "metadata": {
        "id": "nDE1XsJgHTAf"
      },
      "source": [
        "## Imbalance"
      ]
    },
    {
      "cell_type": "code",
      "execution_count": 7,
      "metadata": {
        "colab": {
          "base_uri": "https://localhost:8080/"
        },
        "id": "gCozQX3ZJ_Js",
        "outputId": "0248fee1-4799-4525-c6cf-91092dcc8ab2"
      },
      "outputs": [
        {
          "name": "stderr",
          "output_type": "stream",
          "text": [
            "/usr/local/lib/python3.6/dist-packages/sklearn/externals/six.py:31: FutureWarning:\n",
            "\n",
            "The module is deprecated in version 0.21 and will be removed in version 0.23 since we've dropped support for Python 2.7. Please rely on the official version of six (https://pypi.org/project/six/).\n",
            "\n",
            "/usr/local/lib/python3.6/dist-packages/sklearn/utils/deprecation.py:144: FutureWarning:\n",
            "\n",
            "The sklearn.neighbors.base module is  deprecated in version 0.22 and will be removed in version 0.24. The corresponding classes / functions should instead be imported from sklearn.neighbors. Anything that cannot be imported from sklearn.neighbors is now part of the private API.\n",
            "\n"
          ]
        }
      ],
      "source": [
        "from imblearn.under_sampling import RandomUnderSampler\n",
        "from imblearn.over_sampling import RandomOverSampler\n",
        "from imblearn.over_sampling import SMOTE\n",
        "from imblearn.pipeline import Pipeline\n",
        "import warnings\n",
        "warnings.simplefilter(action='ignore', category=FutureWarning)"
      ]
    },
    {
      "cell_type": "code",
      "execution_count": null,
      "metadata": {
        "id": "wMtQJey_KMnP"
      },
      "outputs": [],
      "source": [
        "def sampler_compare(samplers):\n",
        "\n",
        "    accus, accu_balanceds = [], []\n",
        "\n",
        "    for sampler in samplers.values():\n",
        "        X_train_balanced, y_train_balanced = sampler.fit_sample(X_train, y_train)\n",
        "        ## Test by logistic regression accuracy\n",
        "        logit = LogisticRegression(solver='liblinear')\n",
        "        clf = logit.fit(X_train, y_train)\n",
        "        accu = roc_auc_score(y_test, clf.predict(X_test))\n",
        "        clf_balanced = logit.fit(X_train_balanced, y_train_balanced)\n",
        "        accu_balanced = roc_auc_score(y_test, clf.predict(X_test))\n",
        "\n",
        "        accus.append(accu)\n",
        "        accu_balanceds.append(accu_balanced)\n",
        "\n",
        "    return accus, accu_balanceds"
      ]
    },
    {
      "cell_type": "code",
      "execution_count": null,
      "metadata": {
        "id": "T6R4o4wZq-fI"
      },
      "outputs": [],
      "source": [
        "samplers = {'Undersample': RandomUnderSampler(random_state=0),\n",
        "           'Oversample': RandomOverSampler(random_state=0),\n",
        "           'SMOTE': SMOTE()}\n",
        "accus, accu_balanceds = np.round(sampler_compare(samplers), 4)"
      ]
    },
    {
      "cell_type": "code",
      "execution_count": null,
      "metadata": {
        "colab": {
          "base_uri": "https://localhost:8080/",
          "height": 173
        },
        "id": "raLUW-bkrc_A",
        "outputId": "412e2f8c-0e57-4600-98f9-5b5d4a92d23f"
      },
      "outputs": [
        {
          "data": {
            "text/html": [
              "<div>\n",
              "<style scoped>\n",
              "    .dataframe tbody tr th:only-of-type {\n",
              "        vertical-align: middle;\n",
              "    }\n",
              "\n",
              "    .dataframe tbody tr th {\n",
              "        vertical-align: top;\n",
              "    }\n",
              "\n",
              "    .dataframe thead th {\n",
              "        text-align: right;\n",
              "    }\n",
              "</style>\n",
              "<table border=\"1\" class=\"dataframe\">\n",
              "  <thead>\n",
              "    <tr style=\"text-align: right;\">\n",
              "      <th></th>\n",
              "      <th>Accuracy (balanced)</th>\n",
              "      <th>Accuracy (imbalanced)</th>\n",
              "    </tr>\n",
              "    <tr>\n",
              "      <th>Balancing Method</th>\n",
              "      <th></th>\n",
              "      <th></th>\n",
              "    </tr>\n",
              "  </thead>\n",
              "  <tbody>\n",
              "    <tr>\n",
              "      <th>SMOTE</th>\n",
              "      <td>0.8401</td>\n",
              "      <td>0.8028</td>\n",
              "    </tr>\n",
              "    <tr>\n",
              "      <th>Oversample</th>\n",
              "      <td>0.8387</td>\n",
              "      <td>0.8028</td>\n",
              "    </tr>\n",
              "    <tr>\n",
              "      <th>Undersample</th>\n",
              "      <td>0.8379</td>\n",
              "      <td>0.8028</td>\n",
              "    </tr>\n",
              "  </tbody>\n",
              "</table>\n",
              "</div>"
            ],
            "text/plain": [
              "                  Accuracy (balanced)  Accuracy (imbalanced)\n",
              "Balancing Method                                            \n",
              "SMOTE                          0.8401                 0.8028\n",
              "Oversample                     0.8387                 0.8028\n",
              "Undersample                    0.8379                 0.8028"
            ]
          },
          "execution_count": 39,
          "metadata": {
            "tags": []
          },
          "output_type": "execute_result"
        }
      ],
      "source": [
        "## Output comparsion table\n",
        "table = pd.DataFrame({\"Balancing Method\": samplers.keys(), \n",
        "                      \"Accuracy (imbalanced)\": accus, \n",
        "                      \"Accuracy (balanced)\": accu_balanceds})\n",
        "\n",
        "pd.pivot_table(table, index=['Balancing Method'])\\\n",
        "    .sort_values(by=\"Accuracy (balanced)\", ascending=False)"
      ]
    },
    {
      "cell_type": "code",
      "execution_count": null,
      "metadata": {
        "id": "3xjih2Esf3JX"
      },
      "outputs": [],
      "source": [
        "print(pd.pivot_table(table, index=['Balancing Method'])\\\n",
        "    .sort_values(by=\"Accuracy (balanced)\", ascending=False).to_latex())"
      ]
    },
    {
      "cell_type": "markdown",
      "metadata": {
        "id": "Q5omj3Unt8Zx"
      },
      "source": [
        "It's obvious that the balancing method can imporve the accuracy and among them, SMOTE preforms the best, thus we deploy the SMOTE on the train set."
      ]
    },
    {
      "cell_type": "code",
      "execution_count": 8,
      "metadata": {
        "colab": {
          "base_uri": "https://localhost:8080/"
        },
        "id": "QktxeQbquLzP",
        "outputId": "d73640d3-8efc-4446-d4e3-7e367541c9bb"
      },
      "outputs": [
        {
          "name": "stdout",
          "output_type": "stream",
          "text": [
            "(46280, 194)\n",
            "(46280,)\n"
          ]
        }
      ],
      "source": [
        "X_train_balanced, y_train_balanced = SMOTE().fit_sample(X_train, y_train)\n",
        "print(X_train_balanced.shape)\n",
        "print(y_train_balanced.shape)"
      ]
    },
    {
      "cell_type": "markdown",
      "metadata": {
        "id": "W7H4_Bfrd2mB"
      },
      "source": [
        "## Basic Models Implementation"
      ]
    },
    {
      "cell_type": "markdown",
      "metadata": {
        "id": "UUYo5zfLOeuE"
      },
      "source": [
        "### Tuning "
      ]
    },
    {
      "cell_type": "markdown",
      "metadata": {
        "id": "macLEDF__DM6"
      },
      "source": [
        "#### Random Forest"
      ]
    },
    {
      "cell_type": "code",
      "execution_count": null,
      "metadata": {
        "colab": {
          "base_uri": "https://localhost:8080/"
        },
        "id": "kvb7lrbihqui",
        "outputId": "019c8364-d986-41cd-fe05-91de6a261247"
      },
      "outputs": [
        {
          "name": "stdout",
          "output_type": "stream",
          "text": [
            "Fitting 10 folds for each of 27 candidates, totalling 270 fits\n"
          ]
        },
        {
          "name": "stderr",
          "output_type": "stream",
          "text": [
            "[Parallel(n_jobs=-1)]: Using backend LokyBackend with 2 concurrent workers.\n",
            "[Parallel(n_jobs=-1)]: Done  37 tasks      | elapsed:   17.7s\n",
            "[Parallel(n_jobs=-1)]: Done 158 tasks      | elapsed:  1.3min\n",
            "[Parallel(n_jobs=-1)]: Done 270 out of 270 | elapsed:  2.2min finished\n"
          ]
        },
        {
          "name": "stdout",
          "output_type": "stream",
          "text": [
            "Best paramters (RF): {'max_features': 'sqrt', 'min_samples_split': 2, 'n_estimators': 500}\n"
          ]
        }
      ],
      "source": [
        "rf_para = {'n_estimators': [100, 200, 500],\n",
        "           'max_features': ['auto', 'sqrt', 'log2'],\n",
        "           'min_samples_split': [2, 5, 10]}\n",
        "\n",
        "rf = RandomForestClassifier()\n",
        "rf_cv = GridSearchCV(rf, rf_para, cv=10, n_jobs=-1, verbose=2)\n",
        "rf_cv.fit(X_train[:1000], y_train[:1000])\n",
        "# rf_cv.fit(X_train, y_train)\n",
        "print(\"Best paramters (RF): {}\".format(rf_cv.best_params_))"
      ]
    },
    {
      "cell_type": "markdown",
      "metadata": {
        "id": "hA5ANcSxIsw9"
      },
      "source": [
        "Best paramters (RF): {'max_features': 'sqrt', 'min_samples_split': 2, 'n_estimators': 500}"
      ]
    },
    {
      "cell_type": "markdown",
      "metadata": {
        "id": "jUgt4Wc---Qd"
      },
      "source": [
        "#### Support Vector Machine"
      ]
    },
    {
      "cell_type": "code",
      "execution_count": null,
      "metadata": {
        "colab": {
          "base_uri": "https://localhost:8080/"
        },
        "id": "2uFCPAJN_JVg",
        "outputId": "ead0713e-12f4-47bc-80fb-c868e2d9cb48"
      },
      "outputs": [
        {
          "name": "stdout",
          "output_type": "stream",
          "text": [
            "Fitting 10 folds for each of 20 candidates, totalling 200 fits\n"
          ]
        },
        {
          "name": "stderr",
          "output_type": "stream",
          "text": [
            "[Parallel(n_jobs=-1)]: Using backend LokyBackend with 2 concurrent workers.\n",
            "[Parallel(n_jobs=-1)]: Done  37 tasks      | elapsed:  2.5min\n",
            "[Parallel(n_jobs=-1)]: Done 158 tasks      | elapsed:  7.1min\n",
            "[Parallel(n_jobs=-1)]: Done 200 out of 200 | elapsed:  7.3min finished\n"
          ]
        },
        {
          "name": "stdout",
          "output_type": "stream",
          "text": [
            "Best paramters (SVM): {'C': 0.1, 'gamma': 'scale', 'kernel': 'linear'}\n"
          ]
        }
      ],
      "source": [
        "svm_para = {'kernel': ['linear', 'poly', 'rbf', 'sigmoid'],\n",
        "            'C': [50, 10, 1.0, 0.1, 0.01],\n",
        "            'gamma': ['scale']}\n",
        "\n",
        "svm = SVC()\n",
        "nn_cv = GridSearchCV(svm, svm_para, cv=10, n_jobs=-1, verbose=2)\n",
        "nn_cv.fit(X_train[:1000], y_train[:1000])\n",
        "# nn_cv.fit(X_train, y_train)\n",
        "print(\"Best paramters (SVM): {}\".format(nn_cv.best_params_))"
      ]
    },
    {
      "cell_type": "markdown",
      "metadata": {
        "id": "ibnEzMvhL0sv"
      },
      "source": [
        "Best paramters (SVM): {'C': 0.1, 'gamma': 'scale', 'kernel': 'linear'}"
      ]
    },
    {
      "cell_type": "code",
      "execution_count": null,
      "metadata": {
        "colab": {
          "base_uri": "https://localhost:8080/",
          "height": 280
        },
        "id": "b6KD5bO0KgcH",
        "outputId": "570905f5-a547-4bc6-81d4-c132a8483ca7"
      },
      "outputs": [
        {
          "data": {
            "image/png": "[encoded data removed]",
            "text/plain": [
              "<Figure size 432x288 with 2 Axes>"
            ]
          },
          "metadata": {
            "needs_background": "light",
            "tags": []
          },
          "output_type": "display_data"
        }
      ],
      "source": [
        "## Visualize by heatmap\n",
        "pvt = pd.pivot_table(pd.DataFrame(nn_cv.cv_results_),\n",
        "                     values='mean_test_score',\n",
        "                     index='param_C',\n",
        "                     columns='param_kernel')\n",
        "ax = sns.heatmap(pvt, annot=True, linewidths=.5)"
      ]
    },
    {
      "cell_type": "markdown",
      "metadata": {
        "id": "_x8IBYffOhfp"
      },
      "source": [
        "#### Neural Netowrk"
      ]
    },
    {
      "cell_type": "code",
      "execution_count": null,
      "metadata": {
        "colab": {
          "base_uri": "https://localhost:8080/"
        },
        "id": "kJxXA1f6hrVW",
        "outputId": "ec3befe0-d1e4-4342-c882-4ffc60e68805"
      },
      "outputs": [
        {
          "name": "stdout",
          "output_type": "stream",
          "text": [
            "Fitting 10 folds for each of 32 candidates, totalling 320 fits\n"
          ]
        },
        {
          "name": "stderr",
          "output_type": "stream",
          "text": [
            "[Parallel(n_jobs=-1)]: Using backend LokyBackend with 2 concurrent workers.\n",
            "[Parallel(n_jobs=-1)]: Done  37 tasks      | elapsed:  7.7min\n",
            "[Parallel(n_jobs=-1)]: Done 158 tasks      | elapsed: 20.6min\n",
            "[Parallel(n_jobs=-1)]: Done 320 out of 320 | elapsed: 36.0min finished\n"
          ]
        },
        {
          "name": "stdout",
          "output_type": "stream",
          "text": [
            "Best paramters (NN): {'activation': 'logistic', 'alpha': 0.001, 'hidden_layer_sizes': (100, 100), 'solver': 'adam'}\n"
          ]
        }
      ],
      "source": [
        "nn_para = {'alpha': [1, 0.1, 0.01, 0.001],\n",
        "           'hidden_layer_sizes': [(50,50,50), (100,100)],\n",
        "           'solver': [\"adam\", \"sgd\"],\n",
        "           'activation': [\"logistic\", \"relu\"]}\n",
        "\n",
        "nn = MLPClassifier()\n",
        "nn_cv = GridSearchCV(nn, nn_para, cv=10, n_jobs=-1, verbose=2)\n",
        "nn_cv.fit(X_train, y_train)\n",
        "print(\"Best paramters (NN): {}\".format(nn_cv.best_params_))"
      ]
    },
    {
      "cell_type": "markdown",
      "metadata": {
        "id": "QoWdhsyq9olc"
      },
      "source": [
        "Best paramters (NN): {'activation': 'logistic', 'alpha': 0.001, 'hidden_layer_sizes': (100, 100), 'solver': 'adam'}"
      ]
    },
    {
      "cell_type": "markdown",
      "metadata": {
        "id": "JgWMw-NPppP6"
      },
      "source": [
        "### All Models Comparison\n",
        "\n",
        "Notes: SVC runs very slowly due to the fact of its complexity $\\mathcal{O}(n^2 p)$ ([source](https://stackoverflow.com/questions/40077432/why-is-scikit-learn-svm-svc-extremely-slow))"
      ]
    },
    {
      "cell_type": "code",
      "execution_count": 9,
      "metadata": {
        "id": "VGzA3HSW87X2"
      },
      "outputs": [],
      "source": [
        "def compute(name, model, X_train, X_test, y_train, y_test):\n",
        "\n",
        "    fpr, tpr = [], []\n",
        "    accu = auc = exectime = 0\n",
        "\n",
        "    start = time.process_time()\n",
        "    clf = model.fit(X_train, y_train)\n",
        "    y_prob = clf.predict_proba(X_test)[:, 1]\n",
        "    y_pred = clf.predict(X_test)\n",
        "\n",
        "    exectime = round(time.process_time() - start, 4)\n",
        "    \n",
        "    fpr, tpr, _ = roc_curve(y_test, y_prob)\n",
        "    accu = round(accuracy_score(y_test,y_pred), 4)\n",
        "    auc = round(roc_auc_score(y_test, y_prob), 4)\n",
        "    cm = confusion_matrix(y_test, y_pred)\n",
        "\n",
        "    ## Plot accuracy, AUC and confusion matrix \n",
        "    print(\"# {}:\\nAccuracy Score: {}\\nAUC Score: {}\\nConfusion Matrix:\\n{}\"\n",
        "            .format(name, accu, auc, cm))\n",
        "    print(\"-------------------- \\n\")\n",
        "\n",
        "    return fpr, tpr, accu, auc, exectime\n",
        "\n",
        "def implement(models, X_train, X_test, y_train, y_test, balanced=False):\n",
        "\n",
        "    accus, aucs, times, fprs, tprs = [], [], [], [], []\n",
        "\n",
        "    for name, model in models.items():\n",
        "    \n",
        "        ## XGBoost requires the same column number of training and test set\n",
        "        if name == \"XGBoost\" and balanced == True:\n",
        "            X_test_balanced, y_test_balanced = SMOTE().fit_sample(X_test, y_test)\n",
        "            fpr, tpr, accu, auc, exectime = \\\n",
        "                compute(name, model, X_train, X_test_balanced, y_train, y_test_balanced)\n",
        "        ## Neural Network prefers standardization\n",
        "        elif name == \"Neural Network (vanilla)\" or \"Neural Network (tuned)\":\n",
        "            scaler = StandardScaler()\n",
        "            scaler.fit(X_train)\n",
        "            X_train_scaled = scaler.transform(X_train)\n",
        "            X_test_scaled = scaler.transform(X_test)\n",
        "            fpr, tpr, accu, auc, exectime = \\\n",
        "                compute(name, model, X_train_scaled, X_test_scaled, y_train, y_test)\n",
        "        else:\n",
        "            fpr, tpr, accu, auc, exectime = \\\n",
        "                compute(name, model, X_train, X_test, y_train, y_test)\n",
        "      \n",
        "        fprs.append(fpr)\n",
        "        tprs.append(tpr)\n",
        "        times.append(exectime)\n",
        "        accus.append(accu)\n",
        "        aucs.append(auc)\n",
        "        \n",
        "    return accus, aucs, times, fprs, tprs\n",
        "\n",
        "def plot_ROC(fprs, tprs, aucs, names):\n",
        "\n",
        "    plt.figure(0).clf()\n",
        "\n",
        "    for fpr, tpr, name, auc in zip(fprs, tprs, names, aucs):\n",
        "        plt.plot(fpr, tpr, label=name+\" (AUC=\"+str(auc)+\")\")\n",
        "\n",
        "    ## Plot ROC comparison\n",
        "    plt.legend(loc=0)\n",
        "    plt.title(\"Comparison of Models by ROC\")\n",
        "    plt.ylabel(\"True Positive Rate\")\n",
        "    plt.xlabel(\"False Positive Rate\")"
      ]
    },
    {
      "cell_type": "code",
      "execution_count": 10,
      "metadata": {
        "id": "VqF8W-pRmGzV"
      },
      "outputs": [],
      "source": [
        "## Dictionary: {model name -- classifier}\n",
        "models = \\\n",
        "{\"Logistic Regression (baseline)\": LogisticRegression(solver='liblinear'),\n",
        " \"Decisioion Tree\": DecisionTreeClassifier(max_depth=12),\n",
        " \"Random Forest (vanilla)\": RandomForestClassifier(),\n",
        " \"Random Forest (Tuned)\": RandomForestClassifier(max_features='sqrt',\n",
        "                                                 min_samples_split=2,\n",
        "                                                 n_estimators=500),\n",
        " \"Extra Trees\": ExtraTreesClassifier(min_samples_leaf=7,\n",
        "                                     min_samples_split=2,\n",
        "                                     n_estimators=500),\n",
        " \"Neural Network (vanilla)\": MLPClassifier(),\n",
        " \"Neural Network (Tuned)\": MLPClassifier(alpha=0.001, \n",
        "                                         hidden_layer_sizes=(100,100),\n",
        "                                         solver='adam',\n",
        "                                         activation='logistic'), \n",
        "#  \"Gaussian Naive Bayes\": GaussianNB(),\n",
        " \"XGBoost\": XGBClassifier(),\n",
        " \"AdaBoost\": AdaBoostClassifier(n_estimators=500),\n",
        " \"SVM (Tuned)\": SVC(kernel='linear', C=0.1, probability=True)}"
      ]
    },
    {
      "cell_type": "markdown",
      "metadata": {
        "id": "PYjlnI_mMTww"
      },
      "source": [
        "Imbalanced Training and Plot"
      ]
    },
    {
      "cell_type": "code",
      "execution_count": 11,
      "metadata": {
        "colab": {
          "base_uri": "https://localhost:8080/"
        },
        "id": "iCLJLf5MAlra",
        "outputId": "14255837-129d-470a-8a6b-dfdedc675275"
      },
      "outputs": [
        {
          "name": "stdout",
          "output_type": "stream",
          "text": [
            "# Logistic Regression (baseline):\n",
            "Accuracy Score: 0.8663\n",
            "AUC Score: 0.9226\n",
            "Confusion Matrix:\n",
            "[[5403  395]\n",
            " [ 676 1538]]\n",
            "-------------------- \n",
            "\n",
            "# Decisioion Tree:\n",
            "Accuracy Score: 0.9217\n",
            "AUC Score: 0.9619\n",
            "Confusion Matrix:\n",
            "[[5516  282]\n",
            " [ 345 1869]]\n",
            "-------------------- \n",
            "\n",
            "# Random Forest (vanilla):\n",
            "Accuracy Score: 0.9458\n",
            "AUC Score: 0.9853\n",
            "Confusion Matrix:\n",
            "[[5707   91]\n",
            " [ 343 1871]]\n",
            "-------------------- \n",
            "\n",
            "# Random Forest (Tuned):\n",
            "Accuracy Score: 0.9467\n",
            "AUC Score: 0.9863\n",
            "Confusion Matrix:\n",
            "[[5709   89]\n",
            " [ 338 1876]]\n",
            "-------------------- \n",
            "\n",
            "# Extra Trees:\n",
            "Accuracy Score: 0.8812\n",
            "AUC Score: 0.9527\n",
            "Confusion Matrix:\n",
            "[[5686  112]\n",
            " [ 840 1374]]\n",
            "-------------------- \n",
            "\n"
          ]
        },
        {
          "name": "stderr",
          "output_type": "stream",
          "text": [
            "/usr/local/lib/python3.6/dist-packages/sklearn/neural_network/_multilayer_perceptron.py:571: ConvergenceWarning:\n",
            "\n",
            "Stochastic Optimizer: Maximum iterations (200) reached and the optimization hasn't converged yet.\n",
            "\n"
          ]
        },
        {
          "name": "stdout",
          "output_type": "stream",
          "text": [
            "# Neural Network (vanilla):\n",
            "Accuracy Score: 0.9705\n",
            "AUC Score: 0.9868\n",
            "Confusion Matrix:\n",
            "[[5697  101]\n",
            " [ 135 2079]]\n",
            "-------------------- \n",
            "\n",
            "# Neural Network (Tuned):\n",
            "Accuracy Score: 0.9725\n",
            "AUC Score: 0.9885\n",
            "Confusion Matrix:\n",
            "[[5748   50]\n",
            " [ 170 2044]]\n",
            "-------------------- \n",
            "\n",
            "# XGBoost:\n",
            "Accuracy Score: 0.9096\n",
            "AUC Score: 0.9648\n",
            "Confusion Matrix:\n",
            "[[5584  214]\n",
            " [ 510 1704]]\n",
            "-------------------- \n",
            "\n",
            "# AdaBoost:\n",
            "Accuracy Score: 0.8938\n",
            "AUC Score: 0.9494\n",
            "Confusion Matrix:\n",
            "[[5480  318]\n",
            " [ 533 1681]]\n",
            "-------------------- \n",
            "\n",
            "# SVM (Tuned):\n",
            "Accuracy Score: 0.8665\n",
            "AUC Score: 0.9204\n",
            "Confusion Matrix:\n",
            "[[5423  375]\n",
            " [ 695 1519]]\n",
            "-------------------- \n",
            "\n"
          ]
        }
      ],
      "source": [
        "accus, aucs, times, fprs, tprs = implement(models, X_train, X_test, y_train, y_test, False)"
      ]
    },
    {
      "cell_type": "code",
      "execution_count": 12,
      "metadata": {
        "colab": {
          "base_uri": "https://localhost:8080/",
          "height": 295
        },
        "id": "OCBJd5I0LPQl",
        "outputId": "a8a3957f-038c-4d6f-de8f-ba28809f76f5"
      },
      "outputs": [
        {
          "data": {
            "image/png": "[encoded data removed]",
            "text/plain": [
              "<Figure size 432x288 with 1 Axes>"
            ]
          },
          "metadata": {
            "needs_background": "light",
            "tags": []
          },
          "output_type": "display_data"
        }
      ],
      "source": [
        "plot_ROC(fprs, tprs, aucs, models.keys())"
      ]
    },
    {
      "cell_type": "markdown",
      "metadata": {
        "id": "TRv4GFq_MXiy"
      },
      "source": [
        "Balanced Training and Plot"
      ]
    },
    {
      "cell_type": "code",
      "execution_count": 13,
      "metadata": {
        "colab": {
          "base_uri": "https://localhost:8080/"
        },
        "id": "DmEonFJaFYAv",
        "outputId": "14dd6704-8218-41f2-f7d1-368c9554bfa9"
      },
      "outputs": [
        {
          "name": "stdout",
          "output_type": "stream",
          "text": [
            "# Logistic Regression (baseline):\n",
            "Accuracy Score: 0.8361\n",
            "AUC Score: 0.9218\n",
            "Confusion Matrix:\n",
            "[[4822  976]\n",
            " [ 337 1877]]\n",
            "-------------------- \n",
            "\n",
            "# Decisioion Tree:\n",
            "Accuracy Score: 0.9146\n",
            "AUC Score: 0.9555\n",
            "Confusion Matrix:\n",
            "[[5384  414]\n",
            " [ 270 1944]]\n",
            "-------------------- \n",
            "\n",
            "# Random Forest (vanilla):\n",
            "Accuracy Score: 0.9447\n",
            "AUC Score: 0.9839\n",
            "Confusion Matrix:\n",
            "[[5669  129]\n",
            " [ 314 1900]]\n",
            "-------------------- \n",
            "\n",
            "# Random Forest (Tuned):\n",
            "Accuracy Score: 0.9441\n",
            "AUC Score: 0.9848\n",
            "Confusion Matrix:\n",
            "[[5672  126]\n",
            " [ 322 1892]]\n",
            "-------------------- \n",
            "\n",
            "# Extra Trees:\n",
            "Accuracy Score: 0.8922\n",
            "AUC Score: 0.9527\n",
            "Confusion Matrix:\n",
            "[[5303  495]\n",
            " [ 369 1845]]\n",
            "-------------------- \n",
            "\n",
            "# Neural Network (vanilla):\n",
            "Accuracy Score: 0.9614\n",
            "AUC Score: 0.9833\n",
            "Confusion Matrix:\n",
            "[[5656  142]\n",
            " [ 167 2047]]\n",
            "-------------------- \n",
            "\n",
            "# Neural Network (Tuned):\n",
            "Accuracy Score: 0.9672\n",
            "AUC Score: 0.9889\n",
            "Confusion Matrix:\n",
            "[[5693  105]\n",
            " [ 158 2056]]\n",
            "-------------------- \n",
            "\n",
            "# XGBoost:\n",
            "Accuracy Score: 0.9308\n",
            "AUC Score: 0.9833\n",
            "Confusion Matrix:\n",
            "[[5379  419]\n",
            " [ 384 5414]]\n",
            "-------------------- \n",
            "\n",
            "# AdaBoost:\n",
            "Accuracy Score: 0.8949\n",
            "AUC Score: 0.9489\n",
            "Confusion Matrix:\n",
            "[[5368  430]\n",
            " [ 412 1802]]\n",
            "-------------------- \n",
            "\n",
            "# SVM (Tuned):\n",
            "Accuracy Score: 0.8326\n",
            "AUC Score: 0.9199\n",
            "Confusion Matrix:\n",
            "[[4758 1040]\n",
            " [ 301 1913]]\n",
            "-------------------- \n",
            "\n"
          ]
        }
      ],
      "source": [
        "accus_b, aucs_b, times_b, fprs_b, tprs_b = \\\n",
        "    implement(models, X_train_balanced, X_test, y_train_balanced, y_test, True)"
      ]
    },
    {
      "cell_type": "code",
      "execution_count": 14,
      "metadata": {
        "colab": {
          "base_uri": "https://localhost:8080/",
          "height": 295
        },
        "id": "oek7UFblLRkj",
        "outputId": "d4835016-8775-4a05-f941-b21ae4017c5f"
      },
      "outputs": [
        {
          "data": {
            "image/png": "[encoded data removed]",
            "text/plain": [
              "<Figure size 432x288 with 1 Axes>"
            ]
          },
          "metadata": {
            "needs_background": "light",
            "tags": []
          },
          "output_type": "display_data"
        }
      ],
      "source": [
        "plot_ROC(fprs_b, tprs_b, aucs_b, models.keys())"
      ]
    },
    {
      "cell_type": "code",
      "execution_count": 15,
      "metadata": {
        "colab": {
          "base_uri": "https://localhost:8080/",
          "height": 296
        },
        "id": "yW2SK-P3sM4J",
        "outputId": "d6cbc800-d8ff-4a12-999f-02ba86251aeb"
      },
      "outputs": [
        {
          "data": {
            "text/plain": [
              "Text(0.5, 0, 'Runtime Comparison (s)')"
            ]
          },
          "execution_count": 15,
          "metadata": {
            "tags": []
          },
          "output_type": "execute_result"
        },
        {
          "data": {
            "image/png": "[encoded data removed]",
            "text/plain": [
              "<Figure size 432x288 with 1 Axes>"
            ]
          },
          "metadata": {
            "needs_background": "light",
            "tags": []
          },
          "output_type": "display_data"
        }
      ],
      "source": [
        "## Plot runtime comparison\n",
        "pd.DataFrame(data=times, columns=['Runtime'], index=models.keys())\\\n",
        "                .sort_values('Runtime', ascending=False)\\\n",
        "                .plot(kind='barh', color='g')\n",
        "\n",
        "plt.xlabel(\"Runtime Comparison (s)\")"
      ]
    },
    {
      "cell_type": "code",
      "execution_count": 16,
      "metadata": {
        "colab": {
          "base_uri": "https://localhost:8080/",
          "height": 390
        },
        "id": "LYpkeWyntc_c",
        "outputId": "71737cc5-11c5-4e94-e819-7c682b5103d1"
      },
      "outputs": [
        {
          "data": {
            "text/html": [
              "<div>\n",
              "<style scoped>\n",
              "    .dataframe tbody tr th:only-of-type {\n",
              "        vertical-align: middle;\n",
              "    }\n",
              "\n",
              "    .dataframe tbody tr th {\n",
              "        vertical-align: top;\n",
              "    }\n",
              "\n",
              "    .dataframe thead th {\n",
              "        text-align: right;\n",
              "    }\n",
              "</style>\n",
              "<table border=\"1\" class=\"dataframe\">\n",
              "  <thead>\n",
              "    <tr style=\"text-align: right;\">\n",
              "      <th></th>\n",
              "      <th>AUC</th>\n",
              "      <th>AUC_B</th>\n",
              "      <th>Accuracy</th>\n",
              "      <th>Accuracy_B</th>\n",
              "      <th>Runtime(s)</th>\n",
              "      <th>Runtime_B(s)</th>\n",
              "    </tr>\n",
              "    <tr>\n",
              "      <th>Model</th>\n",
              "      <th></th>\n",
              "      <th></th>\n",
              "      <th></th>\n",
              "      <th></th>\n",
              "      <th></th>\n",
              "      <th></th>\n",
              "    </tr>\n",
              "  </thead>\n",
              "  <tbody>\n",
              "    <tr>\n",
              "      <th>Neural Network (Tuned)</th>\n",
              "      <td>0.9885</td>\n",
              "      <td>0.9889</td>\n",
              "      <td>0.9725</td>\n",
              "      <td>0.9672</td>\n",
              "      <td>209.7754</td>\n",
              "      <td>253.2274</td>\n",
              "    </tr>\n",
              "    <tr>\n",
              "      <th>Neural Network (vanilla)</th>\n",
              "      <td>0.9868</td>\n",
              "      <td>0.9833</td>\n",
              "      <td>0.9705</td>\n",
              "      <td>0.9614</td>\n",
              "      <td>132.9359</td>\n",
              "      <td>125.3403</td>\n",
              "    </tr>\n",
              "    <tr>\n",
              "      <th>Random Forest (Tuned)</th>\n",
              "      <td>0.9863</td>\n",
              "      <td>0.9848</td>\n",
              "      <td>0.9467</td>\n",
              "      <td>0.9441</td>\n",
              "      <td>32.1794</td>\n",
              "      <td>54.7000</td>\n",
              "    </tr>\n",
              "    <tr>\n",
              "      <th>Random Forest (vanilla)</th>\n",
              "      <td>0.9853</td>\n",
              "      <td>0.9839</td>\n",
              "      <td>0.9458</td>\n",
              "      <td>0.9447</td>\n",
              "      <td>6.3899</td>\n",
              "      <td>11.2010</td>\n",
              "    </tr>\n",
              "    <tr>\n",
              "      <th>Decisioion Tree</th>\n",
              "      <td>0.9619</td>\n",
              "      <td>0.9555</td>\n",
              "      <td>0.9217</td>\n",
              "      <td>0.9146</td>\n",
              "      <td>0.5261</td>\n",
              "      <td>1.3537</td>\n",
              "    </tr>\n",
              "    <tr>\n",
              "      <th>XGBoost</th>\n",
              "      <td>0.9648</td>\n",
              "      <td>0.9833</td>\n",
              "      <td>0.9096</td>\n",
              "      <td>0.9308</td>\n",
              "      <td>13.4476</td>\n",
              "      <td>20.0968</td>\n",
              "    </tr>\n",
              "    <tr>\n",
              "      <th>AdaBoost</th>\n",
              "      <td>0.9494</td>\n",
              "      <td>0.9489</td>\n",
              "      <td>0.8938</td>\n",
              "      <td>0.8949</td>\n",
              "      <td>47.5919</td>\n",
              "      <td>102.2639</td>\n",
              "    </tr>\n",
              "    <tr>\n",
              "      <th>Extra Trees</th>\n",
              "      <td>0.9527</td>\n",
              "      <td>0.9527</td>\n",
              "      <td>0.8812</td>\n",
              "      <td>0.8922</td>\n",
              "      <td>27.0275</td>\n",
              "      <td>44.5968</td>\n",
              "    </tr>\n",
              "    <tr>\n",
              "      <th>SVM (Tuned)</th>\n",
              "      <td>0.9204</td>\n",
              "      <td>0.9199</td>\n",
              "      <td>0.8665</td>\n",
              "      <td>0.8326</td>\n",
              "      <td>989.7524</td>\n",
              "      <td>2564.1543</td>\n",
              "    </tr>\n",
              "    <tr>\n",
              "      <th>Logistic Regression (baseline)</th>\n",
              "      <td>0.9226</td>\n",
              "      <td>0.9218</td>\n",
              "      <td>0.8663</td>\n",
              "      <td>0.8361</td>\n",
              "      <td>7.4758</td>\n",
              "      <td>7.3667</td>\n",
              "    </tr>\n",
              "  </tbody>\n",
              "</table>\n",
              "</div>"
            ],
            "text/plain": [
              "                                   AUC   AUC_B  ...  Runtime(s)  Runtime_B(s)\n",
              "Model                                           ...                          \n",
              "Neural Network (Tuned)          0.9885  0.9889  ...    209.7754      253.2274\n",
              "Neural Network (vanilla)        0.9868  0.9833  ...    132.9359      125.3403\n",
              "Random Forest (Tuned)           0.9863  0.9848  ...     32.1794       54.7000\n",
              "Random Forest (vanilla)         0.9853  0.9839  ...      6.3899       11.2010\n",
              "Decisioion Tree                 0.9619  0.9555  ...      0.5261        1.3537\n",
              "XGBoost                         0.9648  0.9833  ...     13.4476       20.0968\n",
              "AdaBoost                        0.9494  0.9489  ...     47.5919      102.2639\n",
              "Extra Trees                     0.9527  0.9527  ...     27.0275       44.5968\n",
              "SVM (Tuned)                     0.9204  0.9199  ...    989.7524     2564.1543\n",
              "Logistic Regression (baseline)  0.9226  0.9218  ...      7.4758        7.3667\n",
              "\n",
              "[10 rows x 6 columns]"
            ]
          },
          "execution_count": 16,
          "metadata": {
            "tags": []
          },
          "output_type": "execute_result"
        }
      ],
      "source": [
        "## Output comparsion table\n",
        "table = pd.DataFrame({\"Model\": models.keys(), \n",
        "                      \"Accuracy\": accus, \n",
        "                      \"AUC\": aucs,\n",
        "                      \"Runtime(s)\": times,\n",
        "                      \"Accuracy_B\": accus_b, \n",
        "                      \"AUC_B\": aucs_b,\n",
        "                      \"Runtime_B(s)\": times_b})\n",
        "\n",
        "pd.pivot_table(table, index=['Model'])\\\n",
        "    .sort_values(by=\"Accuracy\", ascending=False)"
      ]
    },
    {
      "cell_type": "markdown",
      "metadata": {
        "id": "sauz8i7Tw06m"
      },
      "source": [
        "Compare the accuracy difference among models and balance/imbalance."
      ]
    },
    {
      "cell_type": "code",
      "execution_count": null,
      "metadata": {
        "id": "tgsTKgoQ0dNj"
      },
      "outputs": [],
      "source": [
        "print(pd.pivot_table(table, index=['Model'])\\\n",
        "    .sort_values(by=\"Accuracy\", ascending=False).to_latex())"
      ]
    },
    {
      "cell_type": "markdown",
      "metadata": {
        "id": "p36JRIYUpODt"
      },
      "source": [
        "## Ensemble by Soft Voting\n",
        "\n",
        "Selected the most accurate ones to combine as a new multi-layor voting classifier. See notebooks \"Advanced Models Exploration\""
      ]
    }
  ],
  "metadata": {
    "colab": {
      "collapsed_sections": [],
      "name": "Basic_Models_Experiment.ipynb",
      "provenance": [],
      "toc_visible": true
    },
    "kernelspec": {
      "display_name": "Python 3",
      "name": "python3"
    }
  },
  "nbformat": 4,
  "nbformat_minor": 0
}
